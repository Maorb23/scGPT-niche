{
 "cells": [
  {
   "cell_type": "code",
   "execution_count": null,
   "id": "a9bb60c3-8203-4998-b439-444bf5bd75cf",
   "metadata": {},
   "outputs": [],
   "source": []
  }
 ],
 "metadata": {
  "kernelspec": {
   "display_name": "",
   "name": ""
  },
  "language_info": {
   "name": ""
  }
 },
 "nbformat": 4,
 "nbformat_minor": 5
}
